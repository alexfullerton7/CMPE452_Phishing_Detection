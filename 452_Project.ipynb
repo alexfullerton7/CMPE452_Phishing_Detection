{
 "cells": [
  {
   "cell_type": "code",
   "execution_count": 1,
   "id": "91e5b1b6",
   "metadata": {},
   "outputs": [],
   "source": [
    "import numpy as np\n",
    "import pandas as pd\n",
    "import matplotlib.pyplot as plt\n",
    "import torch"
   ]
  },
  {
   "cell_type": "code",
   "execution_count": 9,
   "id": "b337cf93",
   "metadata": {},
   "outputs": [
    {
     "data": {
      "text/html": [
       "<div>\n",
       "<style scoped>\n",
       "    .dataframe tbody tr th:only-of-type {\n",
       "        vertical-align: middle;\n",
       "    }\n",
       "\n",
       "    .dataframe tbody tr th {\n",
       "        vertical-align: top;\n",
       "    }\n",
       "\n",
       "    .dataframe thead th {\n",
       "        text-align: right;\n",
       "    }\n",
       "</style>\n",
       "<table border=\"1\" class=\"dataframe\">\n",
       "  <thead>\n",
       "    <tr style=\"text-align: right;\">\n",
       "      <th></th>\n",
       "      <th>url</th>\n",
       "      <th>status</th>\n",
       "    </tr>\n",
       "  </thead>\n",
       "  <tbody>\n",
       "    <tr>\n",
       "      <th>0</th>\n",
       "      <td>http://www.crestonwood.com/router.php</td>\n",
       "      <td>legitimate</td>\n",
       "    </tr>\n",
       "    <tr>\n",
       "      <th>1</th>\n",
       "      <td>http://rgipt.ac.in</td>\n",
       "      <td>legitimate</td>\n",
       "    </tr>\n",
       "    <tr>\n",
       "      <th>2</th>\n",
       "      <td>http://www.iracing.com/tracks/gateway-motorspo...</td>\n",
       "      <td>legitimate</td>\n",
       "    </tr>\n",
       "    <tr>\n",
       "      <th>3</th>\n",
       "      <td>http://appleid.apple.com-app.es/</td>\n",
       "      <td>phishing</td>\n",
       "    </tr>\n",
       "    <tr>\n",
       "      <th>4</th>\n",
       "      <td>http://www.mutuo.it</td>\n",
       "      <td>legitimate</td>\n",
       "    </tr>\n",
       "  </tbody>\n",
       "</table>\n",
       "</div>"
      ],
      "text/plain": [
       "                                                 url      status\n",
       "0              http://www.crestonwood.com/router.php  legitimate\n",
       "1                                 http://rgipt.ac.in  legitimate\n",
       "2  http://www.iracing.com/tracks/gateway-motorspo...  legitimate\n",
       "3                   http://appleid.apple.com-app.es/    phishing\n",
       "4                                http://www.mutuo.it  legitimate"
      ]
     },
     "execution_count": 9,
     "metadata": {},
     "output_type": "execute_result"
    }
   ],
   "source": [
    "# load the dataset\n",
    "txtData = pd.read_csv('data/dataset_phishing_nocol.csv')\n",
    "txtData.head()\n",
    "\n",
    "device = torch.device('cuda' if torch.cuda.is_available() else 'gpu')"
   ]
  },
  {
   "cell_type": "code",
   "execution_count": 14,
   "id": "81fd3ac2",
   "metadata": {},
   "outputs": [
    {
     "name": "stdout",
     "output_type": "stream",
     "text": [
      "0                    http://www.crestonwood.com/router.php\n",
      "1                                       http://rgipt.ac.in\n",
      "2        http://www.iracing.com/tracks/gateway-motorspo...\n",
      "3                         http://appleid.apple.com-app.es/\n",
      "4                                      http://www.mutuo.it\n",
      "                               ...                        \n",
      "11425    https://www.lovetheedit.com/postnewo/www.dropb...\n",
      "11426    http://apple.com.aieuv.cn/mim/4u220j18s43i590r...\n",
      "11427    https://lt.mydplr.com/16672ac75448ecdb528e1c66...\n",
      "11428    https://www.facebook.com/Interactive-Televisio...\n",
      "11429    http://174.139.46.123/ap/signin?openid.pape.ma...\n",
      "Name: url, Length: 11430, dtype: object\n"
     ]
    }
   ],
   "source": [
    "url = txtData['url']\n",
    "status = txtData['status']"
   ]
  },
  {
   "cell_type": "code",
   "execution_count": null,
   "id": "d7509991",
   "metadata": {},
   "outputs": [],
   "source": [
    "class CNN(object)\n",
    "    def __init__(self, lr, epoch)\n",
    "    \n",
    "    def train (self, x, y)"
   ]
  }
 ],
 "metadata": {
  "kernelspec": {
   "display_name": "Python 3 (ipykernel)",
   "language": "python",
   "name": "python3"
  },
  "language_info": {
   "codemirror_mode": {
    "name": "ipython",
    "version": 3
   },
   "file_extension": ".py",
   "mimetype": "text/x-python",
   "name": "python",
   "nbconvert_exporter": "python",
   "pygments_lexer": "ipython3",
   "version": "3.10.9"
  }
 },
 "nbformat": 4,
 "nbformat_minor": 5
}
